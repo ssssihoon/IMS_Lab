{
 "cells": [
  {
   "cell_type": "code",
   "execution_count": 1,
   "metadata": {
    "collapsed": true
   },
   "outputs": [
    {
     "data": {
      "text/plain": "array([[522.0475, 372.4097],\n       [522.6339, 371.9517],\n       [523.0432, 372.4642],\n       ...,\n       [746.2496, 318.9972],\n       [746.0529, 319.0144],\n       [745.6696, 319.3922]])"
     },
     "execution_count": 1,
     "metadata": {},
     "output_type": "execute_result"
    }
   ],
   "source": [
    "import os\n",
    "import scipy.io\n",
    "import numpy as np\n",
    "\n",
    "# 데이터 폴더 경로 설정\n",
    "data_folder = '/Users/sihoon/Desktop/Eye_tracking/dataset'\n",
    "\n",
    "# 빈 리스트를 만들어 데이터와 레이블을 저장합니다.\n",
    "all_data = []\n",
    "all_labels = []\n",
    "\n",
    "# 주어진 폴더 내의 모든 파일을 반복합니다.\n",
    "for file_name in os.listdir(data_folder):\n",
    "    # 파일의 확장자가 .mat 인 경우에만 처리합니다.\n",
    "    if file_name.endswith('.mat'):\n",
    "        file_path = os.path.join(data_folder, file_name)\n",
    "        # .mat 파일을 읽어들입니다.\n",
    "        mat_data = scipy.io.loadmat(file_path)\n",
    "\n",
    "        # 데이터와 레이블을 추출하여 저장합니다.\n",
    "        # 데이터 추출: 'ETdata' 내의 'pos'에서 3번째와 4번째 열을 가져옵니다.\n",
    "        data = mat_data['ETdata']['pos'][0,0][:, [3, 4]]\n",
    "        # 레이블 추출: 'ETdata' 내의 'pos'에서 5번째 열을 가져온 후 반올림하여 정수형으로 변환합니다.\n",
    "        labels = mat_data['ETdata']['pos'][0,0][:, 5].round().astype(int)\n",
    "\n",
    "        # 데이터와 레이블을 리스트에 추가합니다.\n",
    "        all_data.append(data)\n",
    "        all_labels.append(labels)\n",
    "\n",
    "# 데이터와 레이블을 수직으로 병합합니다.\n",
    "merged_data = np.vstack(all_data)\n",
    "merged_labels = np.hstack(all_labels)\n",
    "\n",
    "# 병합된 데이터와 레이블을 사용하여 필요한 작업을 수행합니다.\n",
    "# 이후 데이터 분석이나 모델 훈련 등을 진행할 수 있습니다.\n"
   ]
  },
  {
   "cell_type": "code",
   "execution_count": null,
   "outputs": [],
   "source": [],
   "metadata": {
    "collapsed": false,
    "pycharm": {
     "is_executing": true
    }
   }
  }
 ],
 "metadata": {
  "kernelspec": {
   "display_name": "Python 3",
   "language": "python",
   "name": "python3"
  },
  "language_info": {
   "codemirror_mode": {
    "name": "ipython",
    "version": 2
   },
   "file_extension": ".py",
   "mimetype": "text/x-python",
   "name": "python",
   "nbconvert_exporter": "python",
   "pygments_lexer": "ipython2",
   "version": "2.7.6"
  }
 },
 "nbformat": 4,
 "nbformat_minor": 0
}
