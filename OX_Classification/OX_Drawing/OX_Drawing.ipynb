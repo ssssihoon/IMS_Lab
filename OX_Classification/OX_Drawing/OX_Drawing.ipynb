{
 "cells": [
  {
   "cell_type": "code",
   "execution_count": 2,
   "metadata": {
    "collapsed": false
   },
   "outputs": [
    {
     "name": "stderr",
     "output_type": "stream",
     "text": [
      "/opt/anaconda3/lib/python3.11/site-packages/keras/src/layers/convolutional/base_conv.py:107: UserWarning: Do not pass an `input_shape`/`input_dim` argument to a layer. When using Sequential models, prefer using an `Input(shape)` object as the first layer in the model instead.\n",
      "  super().__init__(activity_regularizer=activity_regularizer, **kwargs)\n",
      "WARNING:absl:Compiled the loaded model, but the compiled metrics have yet to be built. `model.compile_metrics` will be empty until you train or evaluate the model.\n",
      "WARNING:absl:Error in loading the saved optimizer state. As a result, your model is starting with a freshly initialized optimizer.\n"
     ]
    },
    {
     "name": "stdout",
     "output_type": "stream",
     "text": [
      "\u001b[1m1/1\u001b[0m \u001b[32m━━━━━━━━━━━━━━━━━━━━\u001b[0m\u001b[37m\u001b[0m \u001b[1m0s\u001b[0m 50ms/step\n",
      "X\n"
     ]
    }
   ],
   "source": [
    "import numpy as np\n",
    "import cv2\n",
    "from PIL import Image\n",
    "import tensorflow as tf\n",
    "\n",
    "drawing = False\n",
    "ix, iy = -1, -1\n",
    "\n",
    "def button():\n",
    "    cv2.rectangle(image, (2, 2), (82, 40), 3)\n",
    "    cv2.putText(image, \"Clear\", (2, 35), cv2.FONT_HERSHEY_SIMPLEX, 1, (0, 0, 0))\n",
    "    cv2.rectangle(image, (87, 2), (160, 40), 3)\n",
    "    cv2.putText(image, \"Save\", (87, 35), cv2.FONT_HERSHEY_SIMPLEX, 1, (0, 0, 0))\n",
    "\n",
    "def draw_canvas():\n",
    "    cv2.setMouseCallback(title, draw_circle)\n",
    "    while True:\n",
    "         cv2.imshow(title, image)\n",
    "         k = cv2.waitKey(1) & 0xFF\n",
    "         if k == 27:\n",
    "            break\n",
    "\n",
    "def draw_circle(event, x, y, flags, param):\n",
    "    global ix, iy, drawing\n",
    "\n",
    "    if event == cv2.EVENT_LBUTTONDOWN:\n",
    "        drawing = True\n",
    "        ix, iy = x, y\n",
    "\n",
    "    if event == cv2.EVENT_MOUSEMOVE:\n",
    "        if drawing == True:\n",
    "            ix, iy = x, y\n",
    "            cv2.circle(image, (x, y), 5, (0, 0, 0), -1)\n",
    "\n",
    "    elif event == cv2.EVENT_LBUTTONUP:\n",
    "        drawing = False\n",
    "        cv2.circle(image, (x, y), 5, (0, 0, 0), -1)\n",
    "\n",
    "def save_t():\n",
    "    image_copy = cv2.cvtColor(image, cv2.COLOR_BGR2GRAY)\n",
    "    image_list = []\n",
    "    image_data = cv2.resize(image_copy, (300, 300))\n",
    "    image_array = np.array(image_data) / 255.0\n",
    "    image_list.append(image_array)\n",
    "    image_data = np.array(image_list)\n",
    "    return image_data\n",
    "\n",
    "def order(event, x, y, flags, param):\n",
    "    if event == cv2.EVENT_LBUTTONDOWN and (2<x<82 and 2<y<40):\n",
    "        print(\"Clear\")\n",
    "        cv2.destroyAllWindows()\n",
    "    elif  event == cv2.EVENT_LBUTTONDOWN and (87<x<160 and 2<y<40):\n",
    "        if pred == 0:\n",
    "            print(\"X\")\n",
    "            cv2.putText(image, \"Prediction = 'X'\", (50, 50), cv2.FONT_HERSHEY_PLAIN, 1, (0, 0, 0))\n",
    "            cv2.imshow(title, image)\n",
    "        elif pred == 1:\n",
    "            print(\"O\")\n",
    "            cv2.putText(image, \"Prediction = 'O'\", (50, 50), cv2.FONT_HERSHEY_PLAIN, 1, (0, 0, 0))\n",
    "            cv2.imshow(title, image)\n",
    "\n",
    "if __name__ == \"__main__\":\n",
    "    model = tf.keras.models.load_model(\"/Users/sihoon/Desktop/OX_TEMP/fold_1_OX_Classification.h5\")\n",
    "    image_path = \"/Users/sihoon/Desktop/OX_TEMP/canvas.png\"\n",
    "\n",
    "image = cv2.imread(image_path)\n",
    "title = \"OX_Classification\"\n",
    "cv2.namedWindow(title)\n",
    "cv2.moveWindow(title, 500, 500)\n",
    "button()\n",
    "cv2.imshow(title, image)\n",
    "\n",
    "draw_canvas()\n",
    "\n",
    "pred = np.argmax(model.predict(save_t()), axis=-1)\n",
    "cv2.setMouseCallback(title, order)\n",
    "cv2.waitKey(0)\n",
    "cv2.destroyAllWindows()"
   ]
  },
  {
   "cell_type": "code",
   "execution_count": 3,
   "metadata": {
    "collapsed": false
   },
   "outputs": [
    {
     "name": "stderr",
     "output_type": "stream",
     "text": [
      "WARNING:absl:Compiled the loaded model, but the compiled metrics have yet to be built. `model.compile_metrics` will be empty until you train or evaluate the model.\n",
      "WARNING:absl:Error in loading the saved optimizer state. As a result, your model is starting with a freshly initialized optimizer.\n"
     ]
    },
    {
     "name": "stdout",
     "output_type": "stream",
     "text": [
      "\u001b[1m1/1\u001b[0m \u001b[32m━━━━━━━━━━━━━━━━━━━━\u001b[0m\u001b[37m\u001b[0m \u001b[1m0s\u001b[0m 50ms/step\n",
      "O\n"
     ]
    }
   ],
   "source": [
    "import numpy as np\n",
    "import cv2\n",
    "from PIL import Image\n",
    "import tensorflow as tf\n",
    "\n",
    "drawing = False\n",
    "ix, iy = -1, -1\n",
    "\n",
    "def button():\n",
    "    cv2.rectangle(image, (2, 2), (82, 40), 3)\n",
    "    cv2.putText(image, \"Clear\", (2, 35), cv2.FONT_HERSHEY_SIMPLEX, 1, (0, 0, 0))\n",
    "    cv2.rectangle(image, (87, 2), (160, 40), 3)\n",
    "    cv2.putText(image, \"Save\", (87, 35), cv2.FONT_HERSHEY_SIMPLEX, 1, (0, 0, 0))\n",
    "\n",
    "def draw_canvas():\n",
    "    cv2.setMouseCallback(title, draw_circle)\n",
    "    while True:\n",
    "         cv2.imshow(title, image)\n",
    "         k = cv2.waitKey(1) & 0xFF\n",
    "         if k == 27:\n",
    "            break\n",
    "\n",
    "def draw_circle(event, x, y, flags, param):\n",
    "    global ix, iy, drawing\n",
    "\n",
    "    if event == cv2.EVENT_LBUTTONDOWN:\n",
    "        drawing = True\n",
    "        ix, iy = x, y\n",
    "\n",
    "    if event == cv2.EVENT_MOUSEMOVE:\n",
    "        if drawing == True:\n",
    "            ix, iy = x, y\n",
    "            cv2.circle(image, (x, y), 5, (0, 0, 0), -1)\n",
    "\n",
    "    elif event == cv2.EVENT_LBUTTONUP:\n",
    "        drawing = False\n",
    "        cv2.circle(image, (x, y), 5, (0, 0, 0), -1)\n",
    "\n",
    "def save_t():\n",
    "    # image_copy = cv2.cvtColor(image, cv2.COLOR_BGR2GRAY)\n",
    "    image_list = []\n",
    "    image_data = cv2.resize(image, (300, 300))\n",
    "    image_array = np.array(image_data) / 255.0\n",
    "    image_list.append(image_array)\n",
    "    image_data = np.array(image_list)\n",
    "    return image_data\n",
    "\n",
    "def order(event, x, y, flags, param):\n",
    "    if event == cv2.EVENT_LBUTTONDOWN and (2<x<82 and 2<y<40):\n",
    "        print(\"Clear\")\n",
    "        cv2.destroyAllWindows()\n",
    "    elif  event == cv2.EVENT_LBUTTONDOWN and (87<x<160 and 2<y<40):\n",
    "        if pred == 0:\n",
    "            print(\"X\")\n",
    "            cv2.putText(image, \"Prediction = 'X'\", (50, 50), cv2.FONT_HERSHEY_PLAIN, 1, (0, 0, 0))\n",
    "            cv2.imshow(title, image)\n",
    "        elif pred == 1:\n",
    "            print(\"O\")\n",
    "            cv2.putText(image, \"Prediction = 'O'\", (50, 50), cv2.FONT_HERSHEY_PLAIN, 1, (0, 0, 0))\n",
    "            cv2.imshow(title, image)\n",
    "\n",
    "if __name__ == \"__main__\":\n",
    "    model = tf.keras.models.load_model(\"/Users/sihoon/Desktop/OX_TEMP/fold_1_OX_Classification.h5\")\n",
    "    image_path = \"/Users/sihoon/Desktop/OX_TEMP/canvas.png\"\n",
    "\n",
    "image = np.full((500, 500), 255, np.uint8)\n",
    "title = \"OX_Classification\"\n",
    "cv2.namedWindow(title)\n",
    "cv2.moveWindow(title, 500, 500)\n",
    "button()\n",
    "cv2.imshow(title, image)\n",
    "\n",
    "draw_canvas()\n",
    "\n",
    "pred = np.argmax(model.predict(save_t()), axis=-1)\n",
    "cv2.setMouseCallback(title, order)\n",
    "cv2.waitKey(0)\n",
    "cv2.destroyAllWindows()"
   ]
  },
  {
   "cell_type": "markdown",
   "metadata": {
    "collapsed": false
   },
   "source": [
    "![image](https://github.com/IMS-STUDY/AI-Study/assets/127017020/dfd9cda7-fd3e-442f-9165-c6d0e62542e6)\n",
    "\n",
    "![image](https://github.com/IMS-STUDY/AI-Study/assets/127017020/6899648d-2b81-4007-a8bb-6c4a0e60b8cd)\n"
   ]
  },
  {
   "cell_type": "markdown",
   "metadata": {
    "collapsed": false
   },
   "source": [
    "# OX_Classification\n",
    "\n",
    "전에 만들었던 OX분류기 모델(.h5)파일을 이용해 도화지에 직접 사용자가 그려서 O인지 X인지를 GUI 내부에서 분류해주는 코드 구현\n",
    "\n",
    "# 코드 설명\n",
    "\n",
    "## OpenCV GUI\n",
    "\n",
    "### 캔버스 구성\n",
    "\n",
    "- 크기 : 300x300\n",
    "- 캔버스 제목 : OX_Classification\n",
    "- 캔버스 Move : 캔버스의 위치를 이동해 해상도 상에서 중심으로 오게끔 조정\n",
    "\n",
    "### 버튼 구성\n",
    "\n",
    "- Rectangle, PutText : 버튼의 모양과 텍스트를 구성\n",
    "- Clear : 버튼을 누르게 되면 창을 나가게 된다.\n",
    "- Save : 버튼을 누를 시 내가 캔버스에 그린 그림에 대해서 O(Label = 1)인지 X(Label = 0)인지 Prediction값을 캔버스 내에 출력한다.\n",
    "- 또한 x,y좌표를 따서 버튼 모양 내에서만 작동이 가능하도록 구현\n",
    "\n",
    "### 모양 그리기\n",
    "\n",
    "- setMouseCallback()을 이용해 마우스 좌클릭을 했을 때 그림을 그리고, 클릭을 뗐을 경우 그림이 안그려지도록 설정. 그 후 ESC키를 누르게 되면 이 함수는 종료된다.\n",
    "\n",
    "## 구현 과정\n",
    "\n",
    "파이썬 내장 GUI가 아닌 OpenCV 라이브러리를 활용한 GUI를 구성하는데에 있어서 구글링을 하더라도 자료가 많이 없었다. 있어도 C++에 관한 함수들이 많았다.\n",
    "\n",
    "좌표를 따서 그 좌표 내에서 버튼이 작동되도록 설정하는 부분을 생각하지 못해서 많은 시간 투자가 필요로 했다.\n",
    "\n",
    "처음 캔버스를 만들 때 그 캔버스로 prediction하는 부분에서 내가 사용하던 모델을 가지고 분류를 하는 것이라 차원변환과 전처리 과정이 복잡해 오류가 많이 발생했다.(save_t) 그래서 하나하나 다 찾아서 재구현을 많이 거치게 됐다."
   ]
  }
 ],
 "metadata": {
  "kernelspec": {
   "display_name": "Python 3",
   "language": "python",
   "name": "python3"
  },
  "language_info": {
   "codemirror_mode": {
    "name": "ipython",
    "version": 2
   },
   "file_extension": ".py",
   "mimetype": "text/x-python",
   "name": "python",
   "nbconvert_exporter": "python",
   "pygments_lexer": "ipython2",
   "version": "2.7.6"
  }
 },
 "nbformat": 4,
 "nbformat_minor": 0
}
